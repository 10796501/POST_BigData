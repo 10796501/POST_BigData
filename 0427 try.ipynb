{
 "cells": [
  {
   "cell_type": "code",
   "execution_count": 13,
   "metadata": {},
   "outputs": [],
   "source": [
    "%matplotlib inline\n",
    "import pandas as pd"
   ]
  },
  {
   "cell_type": "code",
   "execution_count": 14,
   "metadata": {},
   "outputs": [],
   "source": [
    "df = pd.read_csv(\"./small_set/TTS1.csv\", header = None, encoding = \"big5\")"
   ]
  },
  {
   "cell_type": "markdown",
   "metadata": {},
   "source": [
    "- TT TT1 郵件狀態代碼 X(2) | Status_code\n",
    "- TT TT2 掛號號碼 X(20) | Mail_num\n",
    "- TT TT3 處理日期 X(10) | Mail_date\n",
    "- TT TT4 處理時間 X(8) | Mail_time\n",
    "- TT TT5 處理局號 X(6) | OP_office // operation office\n",
    "- TT TT6 其它 X(42) | other"
   ]
  },
  {
   "cell_type": "code",
   "execution_count": 15,
   "metadata": {
    "scrolled": true
   },
   "outputs": [],
   "source": [
    "df.columns = [\"Status_code\", \"Mail_num\", \"Mail_date\", \"Mail_time\", \"OP_office\", \"other\"]"
   ]
  },
  {
   "cell_type": "code",
   "execution_count": 16,
   "metadata": {
    "scrolled": true
   },
   "outputs": [
    {
     "data": {
      "text/html": [
       "<div>\n",
       "<style scoped>\n",
       "    .dataframe tbody tr th:only-of-type {\n",
       "        vertical-align: middle;\n",
       "    }\n",
       "\n",
       "    .dataframe tbody tr th {\n",
       "        vertical-align: top;\n",
       "    }\n",
       "\n",
       "    .dataframe thead th {\n",
       "        text-align: right;\n",
       "    }\n",
       "</style>\n",
       "<table border=\"1\" class=\"dataframe\">\n",
       "  <thead>\n",
       "    <tr style=\"text-align: right;\">\n",
       "      <th></th>\n",
       "      <th>Status_code</th>\n",
       "      <th>Mail_num</th>\n",
       "      <th>Mail_date</th>\n",
       "      <th>Mail_time</th>\n",
       "      <th>OP_office</th>\n",
       "      <th>other</th>\n",
       "    </tr>\n",
       "  </thead>\n",
       "  <tbody>\n",
       "    <tr>\n",
       "      <th>0</th>\n",
       "      <td>Y4</td>\n",
       "      <td>00000000000000</td>\n",
       "      <td>2018-01-01</td>\n",
       "      <td>09:49:04</td>\n",
       "      <td>330031</td>\n",
       "      <td>003</td>\n",
       "    </tr>\n",
       "    <tr>\n",
       "      <th>1</th>\n",
       "      <td>Y4</td>\n",
       "      <td>00000000000000</td>\n",
       "      <td>2018-01-01</td>\n",
       "      <td>09:58:08</td>\n",
       "      <td>330031</td>\n",
       "      <td>002</td>\n",
       "    </tr>\n",
       "    <tr>\n",
       "      <th>2</th>\n",
       "      <td>I4</td>\n",
       "      <td>00000000000000</td>\n",
       "      <td>2018-01-01</td>\n",
       "      <td>14:11:51</td>\n",
       "      <td>330031</td>\n",
       "      <td></td>\n",
       "    </tr>\n",
       "    <tr>\n",
       "      <th>3</th>\n",
       "      <td>Y4</td>\n",
       "      <td>00000000000000</td>\n",
       "      <td>2018-01-01</td>\n",
       "      <td>14:23:32</td>\n",
       "      <td>330031</td>\n",
       "      <td>006</td>\n",
       "    </tr>\n",
       "    <tr>\n",
       "      <th>4</th>\n",
       "      <td>I4</td>\n",
       "      <td>00000000000000</td>\n",
       "      <td>2018-01-01</td>\n",
       "      <td>14:52:09</td>\n",
       "      <td>330031</td>\n",
       "      <td></td>\n",
       "    </tr>\n",
       "    <tr>\n",
       "      <th>5</th>\n",
       "      <td>I4</td>\n",
       "      <td>00000000000000</td>\n",
       "      <td>2018-01-01</td>\n",
       "      <td>16:15:52</td>\n",
       "      <td>330031</td>\n",
       "      <td></td>\n",
       "    </tr>\n",
       "    <tr>\n",
       "      <th>6</th>\n",
       "      <td>Y4</td>\n",
       "      <td>58668700100170</td>\n",
       "      <td>2018-01-01</td>\n",
       "      <td>11:06:44</td>\n",
       "      <td>100250</td>\n",
       "      <td>001</td>\n",
       "    </tr>\n",
       "    <tr>\n",
       "      <th>7</th>\n",
       "      <td>I3</td>\n",
       "      <td>59928400100170</td>\n",
       "      <td>2018-01-01</td>\n",
       "      <td>21:10:45</td>\n",
       "      <td>220014</td>\n",
       "      <td></td>\n",
       "    </tr>\n",
       "    <tr>\n",
       "      <th>8</th>\n",
       "      <td>P5</td>\n",
       "      <td>75233300100170</td>\n",
       "      <td>2018-01-01</td>\n",
       "      <td>05:30:09</td>\n",
       "      <td>704583</td>\n",
       "      <td></td>\n",
       "    </tr>\n",
       "    <tr>\n",
       "      <th>9</th>\n",
       "      <td>A3</td>\n",
       "      <td>19491400101070</td>\n",
       "      <td>2018-01-01</td>\n",
       "      <td>21:40:46</td>\n",
       "      <td>320008</td>\n",
       "      <td>65</td>\n",
       "    </tr>\n",
       "    <tr>\n",
       "      <th>10</th>\n",
       "      <td>A3</td>\n",
       "      <td>84509600101270</td>\n",
       "      <td>2018-01-01</td>\n",
       "      <td>16:40:44</td>\n",
       "      <td>500584</td>\n",
       "      <td>60</td>\n",
       "    </tr>\n",
       "    <tr>\n",
       "      <th>11</th>\n",
       "      <td>Y4</td>\n",
       "      <td>96513700101370</td>\n",
       "      <td>2018-01-01</td>\n",
       "      <td>10:59:45</td>\n",
       "      <td>100250</td>\n",
       "      <td>001</td>\n",
       "    </tr>\n",
       "    <tr>\n",
       "      <th>12</th>\n",
       "      <td>Z4</td>\n",
       "      <td>01576100101470</td>\n",
       "      <td>2018-01-01</td>\n",
       "      <td>12:03:53</td>\n",
       "      <td>880580</td>\n",
       "      <td>880004460</td>\n",
       "    </tr>\n",
       "    <tr>\n",
       "      <th>13</th>\n",
       "      <td>Z4</td>\n",
       "      <td>96114600101570</td>\n",
       "      <td>2018-01-01</td>\n",
       "      <td>13:04:05</td>\n",
       "      <td>880580</td>\n",
       "      <td>880003451</td>\n",
       "    </tr>\n",
       "    <tr>\n",
       "      <th>14</th>\n",
       "      <td>Z4</td>\n",
       "      <td>14752700101670</td>\n",
       "      <td>2018-01-01</td>\n",
       "      <td>14:48:17</td>\n",
       "      <td>420584</td>\n",
       "      <td>420002001</td>\n",
       "    </tr>\n",
       "    <tr>\n",
       "      <th>15</th>\n",
       "      <td>A3</td>\n",
       "      <td>10362200101870</td>\n",
       "      <td>2018-01-01</td>\n",
       "      <td>22:40:46</td>\n",
       "      <td>320000</td>\n",
       "      <td>65</td>\n",
       "    </tr>\n",
       "    <tr>\n",
       "      <th>16</th>\n",
       "      <td>Z4</td>\n",
       "      <td>48684100101870</td>\n",
       "      <td>2018-01-01</td>\n",
       "      <td>14:47:57</td>\n",
       "      <td>420584</td>\n",
       "      <td>420002001</td>\n",
       "    </tr>\n",
       "    <tr>\n",
       "      <th>17</th>\n",
       "      <td>P4</td>\n",
       "      <td>23799000101970</td>\n",
       "      <td>2018-01-01</td>\n",
       "      <td>21:57:12</td>\n",
       "      <td>500600</td>\n",
       "      <td></td>\n",
       "    </tr>\n",
       "    <tr>\n",
       "      <th>18</th>\n",
       "      <td>Y4</td>\n",
       "      <td>92557900101970</td>\n",
       "      <td>2018-01-01</td>\n",
       "      <td>10:57:30</td>\n",
       "      <td>100250</td>\n",
       "      <td>001</td>\n",
       "    </tr>\n",
       "    <tr>\n",
       "      <th>19</th>\n",
       "      <td>Y4</td>\n",
       "      <td>82460500102170</td>\n",
       "      <td>2018-01-01</td>\n",
       "      <td>10:59:52</td>\n",
       "      <td>100250</td>\n",
       "      <td>001</td>\n",
       "    </tr>\n",
       "    <tr>\n",
       "      <th>20</th>\n",
       "      <td>V4</td>\n",
       "      <td>98520700102570</td>\n",
       "      <td>2018-01-01</td>\n",
       "      <td>18:02:00</td>\n",
       "      <td>100257</td>\n",
       "      <td></td>\n",
       "    </tr>\n",
       "    <tr>\n",
       "      <th>21</th>\n",
       "      <td>V4</td>\n",
       "      <td>98520900102570</td>\n",
       "      <td>2018-01-01</td>\n",
       "      <td>18:03:00</td>\n",
       "      <td>100257</td>\n",
       "      <td></td>\n",
       "    </tr>\n",
       "    <tr>\n",
       "      <th>22</th>\n",
       "      <td>V4</td>\n",
       "      <td>98521100102570</td>\n",
       "      <td>2018-01-01</td>\n",
       "      <td>18:02:00</td>\n",
       "      <td>100257</td>\n",
       "      <td></td>\n",
       "    </tr>\n",
       "    <tr>\n",
       "      <th>23</th>\n",
       "      <td>V4</td>\n",
       "      <td>98521300102570</td>\n",
       "      <td>2018-01-01</td>\n",
       "      <td>18:02:00</td>\n",
       "      <td>100257</td>\n",
       "      <td></td>\n",
       "    </tr>\n",
       "    <tr>\n",
       "      <th>24</th>\n",
       "      <td>Z4</td>\n",
       "      <td>61353900102870</td>\n",
       "      <td>2018-01-01</td>\n",
       "      <td>14:47:13</td>\n",
       "      <td>420584</td>\n",
       "      <td>420002001</td>\n",
       "    </tr>\n",
       "    <tr>\n",
       "      <th>25</th>\n",
       "      <td>P4</td>\n",
       "      <td>72423900102970</td>\n",
       "      <td>2018-01-01</td>\n",
       "      <td>21:57:50</td>\n",
       "      <td>500600</td>\n",
       "      <td></td>\n",
       "    </tr>\n",
       "    <tr>\n",
       "      <th>26</th>\n",
       "      <td>Y4</td>\n",
       "      <td>79068700102970</td>\n",
       "      <td>2018-01-01</td>\n",
       "      <td>11:00:50</td>\n",
       "      <td>100250</td>\n",
       "      <td>001</td>\n",
       "    </tr>\n",
       "    <tr>\n",
       "      <th>27</th>\n",
       "      <td>Y4</td>\n",
       "      <td>32588100103170</td>\n",
       "      <td>2018-01-01</td>\n",
       "      <td>10:58:12</td>\n",
       "      <td>100250</td>\n",
       "      <td>001</td>\n",
       "    </tr>\n",
       "    <tr>\n",
       "      <th>28</th>\n",
       "      <td>Y4</td>\n",
       "      <td>76287300103170</td>\n",
       "      <td>2018-01-01</td>\n",
       "      <td>15:55:09</td>\n",
       "      <td>420009</td>\n",
       "      <td>002</td>\n",
       "    </tr>\n",
       "    <tr>\n",
       "      <th>29</th>\n",
       "      <td>H4</td>\n",
       "      <td>76287300103170</td>\n",
       "      <td>2018-01-01</td>\n",
       "      <td>17:11:26</td>\n",
       "      <td>420009</td>\n",
       "      <td>B12</td>\n",
       "    </tr>\n",
       "    <tr>\n",
       "      <th>...</th>\n",
       "      <td>...</td>\n",
       "      <td>...</td>\n",
       "      <td>...</td>\n",
       "      <td>...</td>\n",
       "      <td>...</td>\n",
       "      <td>...</td>\n",
       "    </tr>\n",
       "    <tr>\n",
       "      <th>9970</th>\n",
       "      <td>I4</td>\n",
       "      <td>03309940100918</td>\n",
       "      <td>2018-01-02</td>\n",
       "      <td>13:32:55</td>\n",
       "      <td>100572</td>\n",
       "      <td></td>\n",
       "    </tr>\n",
       "    <tr>\n",
       "      <th>9971</th>\n",
       "      <td>A1</td>\n",
       "      <td>03310040100918</td>\n",
       "      <td>2018-01-02</td>\n",
       "      <td>15:57:00</td>\n",
       "      <td>400009</td>\n",
       "      <td>000000000000000010000028             0</td>\n",
       "    </tr>\n",
       "    <tr>\n",
       "      <th>9972</th>\n",
       "      <td>A1</td>\n",
       "      <td>03310140100918</td>\n",
       "      <td>2018-01-02</td>\n",
       "      <td>15:57:00</td>\n",
       "      <td>400009</td>\n",
       "      <td>000000000000000010000028             0</td>\n",
       "    </tr>\n",
       "    <tr>\n",
       "      <th>9973</th>\n",
       "      <td>A1</td>\n",
       "      <td>03310240100918</td>\n",
       "      <td>2018-01-02</td>\n",
       "      <td>15:57:00</td>\n",
       "      <td>400009</td>\n",
       "      <td>000000000000000010000028             0</td>\n",
       "    </tr>\n",
       "    <tr>\n",
       "      <th>9974</th>\n",
       "      <td>A1</td>\n",
       "      <td>03310340100918</td>\n",
       "      <td>2018-01-02</td>\n",
       "      <td>15:57:00</td>\n",
       "      <td>400009</td>\n",
       "      <td>000000000000000010000028             0</td>\n",
       "    </tr>\n",
       "    <tr>\n",
       "      <th>9975</th>\n",
       "      <td>Y4</td>\n",
       "      <td>03446840100918</td>\n",
       "      <td>2018-01-02</td>\n",
       "      <td>08:14:21</td>\n",
       "      <td>400584</td>\n",
       "      <td>001</td>\n",
       "    </tr>\n",
       "    <tr>\n",
       "      <th>9976</th>\n",
       "      <td>I4</td>\n",
       "      <td>03446840100918</td>\n",
       "      <td>2018-01-02</td>\n",
       "      <td>12:57:59</td>\n",
       "      <td>400584</td>\n",
       "      <td></td>\n",
       "    </tr>\n",
       "    <tr>\n",
       "      <th>9977</th>\n",
       "      <td>Y4</td>\n",
       "      <td>03446940100918</td>\n",
       "      <td>2018-01-02</td>\n",
       "      <td>09:44:54</td>\n",
       "      <td>400589</td>\n",
       "      <td>001</td>\n",
       "    </tr>\n",
       "    <tr>\n",
       "      <th>9978</th>\n",
       "      <td>I4</td>\n",
       "      <td>03446940100918</td>\n",
       "      <td>2018-01-02</td>\n",
       "      <td>17:53:28</td>\n",
       "      <td>400589</td>\n",
       "      <td></td>\n",
       "    </tr>\n",
       "    <tr>\n",
       "      <th>9979</th>\n",
       "      <td>Y4</td>\n",
       "      <td>03447040100918</td>\n",
       "      <td>2018-01-02</td>\n",
       "      <td>10:06:55</td>\n",
       "      <td>400047</td>\n",
       "      <td>012</td>\n",
       "    </tr>\n",
       "    <tr>\n",
       "      <th>9980</th>\n",
       "      <td>I4</td>\n",
       "      <td>03447040100918</td>\n",
       "      <td>2018-01-02</td>\n",
       "      <td>14:33:49</td>\n",
       "      <td>400047</td>\n",
       "      <td></td>\n",
       "    </tr>\n",
       "    <tr>\n",
       "      <th>9981</th>\n",
       "      <td>Y4</td>\n",
       "      <td>03447140100918</td>\n",
       "      <td>2018-01-02</td>\n",
       "      <td>08:40:19</td>\n",
       "      <td>400589</td>\n",
       "      <td>001</td>\n",
       "    </tr>\n",
       "    <tr>\n",
       "      <th>9982</th>\n",
       "      <td>I4</td>\n",
       "      <td>03447140100918</td>\n",
       "      <td>2018-01-02</td>\n",
       "      <td>12:38:44</td>\n",
       "      <td>400589</td>\n",
       "      <td></td>\n",
       "    </tr>\n",
       "    <tr>\n",
       "      <th>9983</th>\n",
       "      <td>Y4</td>\n",
       "      <td>03447240100918</td>\n",
       "      <td>2018-01-02</td>\n",
       "      <td>09:16:59</td>\n",
       "      <td>100598</td>\n",
       "      <td>001</td>\n",
       "    </tr>\n",
       "    <tr>\n",
       "      <th>9984</th>\n",
       "      <td>I4</td>\n",
       "      <td>03447240100918</td>\n",
       "      <td>2018-01-02</td>\n",
       "      <td>13:17:52</td>\n",
       "      <td>100598</td>\n",
       "      <td></td>\n",
       "    </tr>\n",
       "    <tr>\n",
       "      <th>9985</th>\n",
       "      <td>Y4</td>\n",
       "      <td>03447340100918</td>\n",
       "      <td>2018-01-02</td>\n",
       "      <td>07:43:25</td>\n",
       "      <td>400584</td>\n",
       "      <td>001</td>\n",
       "    </tr>\n",
       "    <tr>\n",
       "      <th>9986</th>\n",
       "      <td>I4</td>\n",
       "      <td>03447340100918</td>\n",
       "      <td>2018-01-02</td>\n",
       "      <td>15:50:42</td>\n",
       "      <td>400584</td>\n",
       "      <td></td>\n",
       "    </tr>\n",
       "    <tr>\n",
       "      <th>9987</th>\n",
       "      <td>Y4</td>\n",
       "      <td>03447440100918</td>\n",
       "      <td>2018-01-02</td>\n",
       "      <td>09:13:08</td>\n",
       "      <td>200600</td>\n",
       "      <td>001</td>\n",
       "    </tr>\n",
       "    <tr>\n",
       "      <th>9988</th>\n",
       "      <td>I4</td>\n",
       "      <td>03447440100918</td>\n",
       "      <td>2018-01-02</td>\n",
       "      <td>13:26:48</td>\n",
       "      <td>200600</td>\n",
       "      <td></td>\n",
       "    </tr>\n",
       "    <tr>\n",
       "      <th>9989</th>\n",
       "      <td>Z4</td>\n",
       "      <td>03447540100918</td>\n",
       "      <td>2018-01-02</td>\n",
       "      <td>06:31:36</td>\n",
       "      <td>420032</td>\n",
       "      <td>420037001</td>\n",
       "    </tr>\n",
       "    <tr>\n",
       "      <th>9990</th>\n",
       "      <td>Y4</td>\n",
       "      <td>03447540100918</td>\n",
       "      <td>2018-01-02</td>\n",
       "      <td>09:26:40</td>\n",
       "      <td>420037</td>\n",
       "      <td>001</td>\n",
       "    </tr>\n",
       "    <tr>\n",
       "      <th>9991</th>\n",
       "      <td>I4</td>\n",
       "      <td>03447540100918</td>\n",
       "      <td>2018-01-02</td>\n",
       "      <td>14:41:45</td>\n",
       "      <td>420037</td>\n",
       "      <td></td>\n",
       "    </tr>\n",
       "    <tr>\n",
       "      <th>9992</th>\n",
       "      <td>Y4</td>\n",
       "      <td>03447640100918</td>\n",
       "      <td>2018-01-02</td>\n",
       "      <td>07:21:37</td>\n",
       "      <td>400584</td>\n",
       "      <td>001</td>\n",
       "    </tr>\n",
       "    <tr>\n",
       "      <th>9993</th>\n",
       "      <td>I4</td>\n",
       "      <td>03447640100918</td>\n",
       "      <td>2018-01-02</td>\n",
       "      <td>15:50:44</td>\n",
       "      <td>400584</td>\n",
       "      <td></td>\n",
       "    </tr>\n",
       "    <tr>\n",
       "      <th>9994</th>\n",
       "      <td>Y4</td>\n",
       "      <td>03447740100918</td>\n",
       "      <td>2018-01-02</td>\n",
       "      <td>08:37:57</td>\n",
       "      <td>830600</td>\n",
       "      <td>001</td>\n",
       "    </tr>\n",
       "    <tr>\n",
       "      <th>9995</th>\n",
       "      <td>I4</td>\n",
       "      <td>03447740100918</td>\n",
       "      <td>2018-01-02</td>\n",
       "      <td>14:39:43</td>\n",
       "      <td>830600</td>\n",
       "      <td></td>\n",
       "    </tr>\n",
       "    <tr>\n",
       "      <th>9996</th>\n",
       "      <td>A1</td>\n",
       "      <td>05579140100916</td>\n",
       "      <td>2018-01-02</td>\n",
       "      <td>16:46:00</td>\n",
       "      <td>400009</td>\n",
       "      <td>000000000000000008000028             0</td>\n",
       "    </tr>\n",
       "    <tr>\n",
       "      <th>9997</th>\n",
       "      <td>Z4</td>\n",
       "      <td>05579140100916</td>\n",
       "      <td>2018-01-02</td>\n",
       "      <td>21:16:18</td>\n",
       "      <td>400672</td>\n",
       "      <td>4005840001</td>\n",
       "    </tr>\n",
       "    <tr>\n",
       "      <th>9998</th>\n",
       "      <td>A1</td>\n",
       "      <td>05579240100916</td>\n",
       "      <td>2018-01-02</td>\n",
       "      <td>16:46:00</td>\n",
       "      <td>400009</td>\n",
       "      <td>000000000000000008000028             0</td>\n",
       "    </tr>\n",
       "    <tr>\n",
       "      <th>9999</th>\n",
       "      <td>Z4</td>\n",
       "      <td>05579240100916</td>\n",
       "      <td>2018-01-02</td>\n",
       "      <td>20:30:37</td>\n",
       "      <td>400672</td>\n",
       "      <td>3605820001</td>\n",
       "    </tr>\n",
       "  </tbody>\n",
       "</table>\n",
       "<p>10000 rows × 6 columns</p>\n",
       "</div>"
      ],
      "text/plain": [
       "     Status_code              Mail_num   Mail_date Mail_time  OP_office  \\\n",
       "0             Y4  00000000000000        2018-01-01  09:49:04     330031   \n",
       "1             Y4  00000000000000        2018-01-01  09:58:08     330031   \n",
       "2             I4  00000000000000        2018-01-01  14:11:51     330031   \n",
       "3             Y4  00000000000000        2018-01-01  14:23:32     330031   \n",
       "4             I4  00000000000000        2018-01-01  14:52:09     330031   \n",
       "5             I4  00000000000000        2018-01-01  16:15:52     330031   \n",
       "6             Y4  58668700100170        2018-01-01  11:06:44     100250   \n",
       "7             I3  59928400100170        2018-01-01  21:10:45     220014   \n",
       "8             P5  75233300100170        2018-01-01  05:30:09     704583   \n",
       "9             A3  19491400101070        2018-01-01  21:40:46     320008   \n",
       "10            A3  84509600101270        2018-01-01  16:40:44     500584   \n",
       "11            Y4  96513700101370        2018-01-01  10:59:45     100250   \n",
       "12            Z4  01576100101470        2018-01-01  12:03:53     880580   \n",
       "13            Z4  96114600101570        2018-01-01  13:04:05     880580   \n",
       "14            Z4  14752700101670        2018-01-01  14:48:17     420584   \n",
       "15            A3  10362200101870        2018-01-01  22:40:46     320000   \n",
       "16            Z4  48684100101870        2018-01-01  14:47:57     420584   \n",
       "17            P4  23799000101970        2018-01-01  21:57:12     500600   \n",
       "18            Y4  92557900101970        2018-01-01  10:57:30     100250   \n",
       "19            Y4  82460500102170        2018-01-01  10:59:52     100250   \n",
       "20            V4  98520700102570        2018-01-01  18:02:00     100257   \n",
       "21            V4  98520900102570        2018-01-01  18:03:00     100257   \n",
       "22            V4  98521100102570        2018-01-01  18:02:00     100257   \n",
       "23            V4  98521300102570        2018-01-01  18:02:00     100257   \n",
       "24            Z4  61353900102870        2018-01-01  14:47:13     420584   \n",
       "25            P4  72423900102970        2018-01-01  21:57:50     500600   \n",
       "26            Y4  79068700102970        2018-01-01  11:00:50     100250   \n",
       "27            Y4  32588100103170        2018-01-01  10:58:12     100250   \n",
       "28            Y4  76287300103170        2018-01-01  15:55:09     420009   \n",
       "29            H4  76287300103170        2018-01-01  17:11:26     420009   \n",
       "...          ...                   ...         ...       ...        ...   \n",
       "9970          I4  03309940100918        2018-01-02  13:32:55     100572   \n",
       "9971          A1  03310040100918        2018-01-02  15:57:00     400009   \n",
       "9972          A1  03310140100918        2018-01-02  15:57:00     400009   \n",
       "9973          A1  03310240100918        2018-01-02  15:57:00     400009   \n",
       "9974          A1  03310340100918        2018-01-02  15:57:00     400009   \n",
       "9975          Y4  03446840100918        2018-01-02  08:14:21     400584   \n",
       "9976          I4  03446840100918        2018-01-02  12:57:59     400584   \n",
       "9977          Y4  03446940100918        2018-01-02  09:44:54     400589   \n",
       "9978          I4  03446940100918        2018-01-02  17:53:28     400589   \n",
       "9979          Y4  03447040100918        2018-01-02  10:06:55     400047   \n",
       "9980          I4  03447040100918        2018-01-02  14:33:49     400047   \n",
       "9981          Y4  03447140100918        2018-01-02  08:40:19     400589   \n",
       "9982          I4  03447140100918        2018-01-02  12:38:44     400589   \n",
       "9983          Y4  03447240100918        2018-01-02  09:16:59     100598   \n",
       "9984          I4  03447240100918        2018-01-02  13:17:52     100598   \n",
       "9985          Y4  03447340100918        2018-01-02  07:43:25     400584   \n",
       "9986          I4  03447340100918        2018-01-02  15:50:42     400584   \n",
       "9987          Y4  03447440100918        2018-01-02  09:13:08     200600   \n",
       "9988          I4  03447440100918        2018-01-02  13:26:48     200600   \n",
       "9989          Z4  03447540100918        2018-01-02  06:31:36     420032   \n",
       "9990          Y4  03447540100918        2018-01-02  09:26:40     420037   \n",
       "9991          I4  03447540100918        2018-01-02  14:41:45     420037   \n",
       "9992          Y4  03447640100918        2018-01-02  07:21:37     400584   \n",
       "9993          I4  03447640100918        2018-01-02  15:50:44     400584   \n",
       "9994          Y4  03447740100918        2018-01-02  08:37:57     830600   \n",
       "9995          I4  03447740100918        2018-01-02  14:39:43     830600   \n",
       "9996          A1  05579140100916        2018-01-02  16:46:00     400009   \n",
       "9997          Z4  05579140100916        2018-01-02  21:16:18     400672   \n",
       "9998          A1  05579240100916        2018-01-02  16:46:00     400009   \n",
       "9999          Z4  05579240100916        2018-01-02  20:30:37     400672   \n",
       "\n",
       "                                           other  \n",
       "0           003                                   \n",
       "1           002                                   \n",
       "2                                                 \n",
       "3           006                                   \n",
       "4                                                 \n",
       "5                                                 \n",
       "6           001                                   \n",
       "7                                                 \n",
       "8                                                 \n",
       "9                           65                    \n",
       "10                          60                    \n",
       "11          001                                   \n",
       "12    880004460                                   \n",
       "13    880003451                                   \n",
       "14    420002001                                   \n",
       "15                          65                    \n",
       "16    420002001                                   \n",
       "17                                                \n",
       "18          001                                   \n",
       "19          001                                   \n",
       "20                                                \n",
       "21                                                \n",
       "22                                                \n",
       "23                                                \n",
       "24    420002001                                   \n",
       "25                                                \n",
       "26          001                                   \n",
       "27          001                                   \n",
       "28          002                                   \n",
       "29    B12                                         \n",
       "...                                          ...  \n",
       "9970                                              \n",
       "9971  000000000000000010000028             0      \n",
       "9972  000000000000000010000028             0      \n",
       "9973  000000000000000010000028             0      \n",
       "9974  000000000000000010000028             0      \n",
       "9975        001                                   \n",
       "9976                                              \n",
       "9977        001                                   \n",
       "9978                                              \n",
       "9979        012                                   \n",
       "9980                                              \n",
       "9981        001                                   \n",
       "9982                                              \n",
       "9983        001                                   \n",
       "9984                                              \n",
       "9985        001                                   \n",
       "9986                                              \n",
       "9987        001                                   \n",
       "9988                                              \n",
       "9989  420037001                                   \n",
       "9990        001                                   \n",
       "9991                                              \n",
       "9992        001                                   \n",
       "9993                                              \n",
       "9994        001                                   \n",
       "9995                                              \n",
       "9996  000000000000000008000028             0      \n",
       "9997  4005840001                                  \n",
       "9998  000000000000000008000028             0      \n",
       "9999  3605820001                                  \n",
       "\n",
       "[10000 rows x 6 columns]"
      ]
     },
     "execution_count": 16,
     "metadata": {},
     "output_type": "execute_result"
    }
   ],
   "source": [
    "df"
   ]
  },
  {
   "cell_type": "markdown",
   "metadata": {},
   "source": [
    "# 定義：狀態碼為**點**"
   ]
  },
  {
   "cell_type": "code",
   "execution_count": 17,
   "metadata": {},
   "outputs": [
    {
     "data": {
      "text/plain": [
       "array(['Y4', 'I4', 'I3', 'P5', 'A3', 'Z4', 'P4', 'V4', 'H4', 'W2', 'Z2',\n",
       "       'I2', 'T2', 'A1', 'V2', 'I7', 'A2', 'G2', 'T5', 'X2', 'VL', 'H7',\n",
       "       'Z1', 'G1', 'I1', 'Y7', 'V3', 'T4', 'S2', 'G3', 'I5', 'T1'],\n",
       "      dtype=object)"
      ]
     },
     "execution_count": 17,
     "metadata": {},
     "output_type": "execute_result"
    }
   ],
   "source": [
    "df.Status_code.unique()"
   ]
  },
  {
   "cell_type": "code",
   "execution_count": 18,
   "metadata": {},
   "outputs": [],
   "source": [
    "nodes = list(df.Status_code.unique())"
   ]
  },
  {
   "cell_type": "code",
   "execution_count": 19,
   "metadata": {},
   "outputs": [],
   "source": [
    "head_nodes = sorted(list(set([node[0] for node in nodes])))"
   ]
  },
  {
   "cell_type": "code",
   "execution_count": 20,
   "metadata": {},
   "outputs": [],
   "source": [
    "dic_nodes = dict( zip(head_nodes, range(len(head_nodes))) )"
   ]
  },
  {
   "cell_type": "code",
   "execution_count": 21,
   "metadata": {},
   "outputs": [],
   "source": [
    "label_node = lambda x:dic_nodes[x[0]]"
   ]
  },
  {
   "cell_type": "code",
   "execution_count": 22,
   "metadata": {},
   "outputs": [
    {
     "data": {
      "text/plain": [
       "6"
      ]
     },
     "execution_count": 22,
     "metadata": {},
     "output_type": "execute_result"
    }
   ],
   "source": [
    "label_node(\"T4\")"
   ]
  },
  {
   "cell_type": "code",
   "execution_count": 23,
   "metadata": {
    "scrolled": true
   },
   "outputs": [],
   "source": [
    "data_nodes = []\n",
    "for node in nodes:\n",
    "    data = { \"id\":node, \"group\": label_node(node)}\n",
    "    data_nodes.append(data)"
   ]
  },
  {
   "cell_type": "code",
   "execution_count": 24,
   "metadata": {
    "scrolled": true
   },
   "outputs": [
    {
     "data": {
      "text/plain": [
       "[{'group': 10, 'id': 'Y4'},\n",
       " {'group': 3, 'id': 'I4'},\n",
       " {'group': 3, 'id': 'I3'},\n",
       " {'group': 4, 'id': 'P5'},\n",
       " {'group': 0, 'id': 'A3'},\n",
       " {'group': 11, 'id': 'Z4'},\n",
       " {'group': 4, 'id': 'P4'},\n",
       " {'group': 7, 'id': 'V4'},\n",
       " {'group': 2, 'id': 'H4'},\n",
       " {'group': 8, 'id': 'W2'},\n",
       " {'group': 11, 'id': 'Z2'},\n",
       " {'group': 3, 'id': 'I2'},\n",
       " {'group': 6, 'id': 'T2'},\n",
       " {'group': 0, 'id': 'A1'},\n",
       " {'group': 7, 'id': 'V2'},\n",
       " {'group': 3, 'id': 'I7'},\n",
       " {'group': 0, 'id': 'A2'},\n",
       " {'group': 1, 'id': 'G2'},\n",
       " {'group': 6, 'id': 'T5'},\n",
       " {'group': 9, 'id': 'X2'},\n",
       " {'group': 7, 'id': 'VL'},\n",
       " {'group': 2, 'id': 'H7'},\n",
       " {'group': 11, 'id': 'Z1'},\n",
       " {'group': 1, 'id': 'G1'},\n",
       " {'group': 3, 'id': 'I1'},\n",
       " {'group': 10, 'id': 'Y7'},\n",
       " {'group': 7, 'id': 'V3'},\n",
       " {'group': 6, 'id': 'T4'},\n",
       " {'group': 5, 'id': 'S2'},\n",
       " {'group': 1, 'id': 'G3'},\n",
       " {'group': 3, 'id': 'I5'},\n",
       " {'group': 6, 'id': 'T1'}]"
      ]
     },
     "execution_count": 24,
     "metadata": {},
     "output_type": "execute_result"
    }
   ],
   "source": [
    "data_nodes"
   ]
  },
  {
   "cell_type": "code",
   "execution_count": null,
   "metadata": {},
   "outputs": [],
   "source": []
  },
  {
   "cell_type": "code",
   "execution_count": null,
   "metadata": {},
   "outputs": [],
   "source": []
  },
  {
   "cell_type": "code",
   "execution_count": null,
   "metadata": {},
   "outputs": [],
   "source": []
  },
  {
   "cell_type": "markdown",
   "metadata": {},
   "source": [
    "# 定義：狀態的改變**線** \n",
    "- 要依據狀態、郵件號碼及時間去決定線的連接\n",
    "- 時間的轉換，請參考 [pandas.to_datetime()](https://pandas.pydata.org/pandas-docs/stable/reference/api/pandas.to_datetime.html)\n",
    "\n",
    "\n",
    "# 定義：**線**，狀態的改變\n",
    "- 要依據狀態、郵件號碼及時間去決定**線** 的連接\n",
    "- 時間的轉換，請參考 [pandas.to_datetime()](https://pandas.pydata.org/pandas-docs/stable/reference/api/pandas.to_datetime.html)"
   ]
  },
  {
   "cell_type": "code",
   "execution_count": 25,
   "metadata": {},
   "outputs": [],
   "source": [
    "df[\"Mail_datetime\"] = df.Mail_date + \" \" + df.Mail_time"
   ]
  },
  {
   "cell_type": "code",
   "execution_count": 26,
   "metadata": {},
   "outputs": [],
   "source": [
    "df.Mail_datetime = pd.to_datetime(df.Mail_datetime)"
   ]
  },
  {
   "cell_type": "markdown",
   "metadata": {},
   "source": [
    "```\n",
    "all_mail[\"58668700100170\"] = [ (\"Y4\", \"2018-01-01 09:49:04\"),\n",
    "                           (\"I4\", \"2018-01-01 14:11:51\"), ... ] \n",
    "\n",
    "```"
   ]
  },
  {
   "cell_type": "code",
   "execution_count": 27,
   "metadata": {},
   "outputs": [],
   "source": [
    "all_mail ={}\n",
    "for idx, row in df.head(5000).iterrows():\n",
    "#     print(idx, row.Status_code, row.Mail_num.strip(), row.Mail_datetime)\n",
    "    \n",
    "    if not row.Mail_num.strip() in all_mail:\n",
    "        all_mail[row.Mail_num.strip()] = []\n",
    "        \n",
    "    all_mail[row.Mail_num.strip()].append( (row.Status_code, row.Mail_datetime) )"
   ]
  },
  {
   "cell_type": "code",
   "execution_count": 28,
   "metadata": {},
   "outputs": [
    {
     "data": {
      "text/plain": [
       "3159"
      ]
     },
     "execution_count": 28,
     "metadata": {},
     "output_type": "execute_result"
    }
   ],
   "source": [
    "len(all_mail.keys())"
   ]
  },
  {
   "cell_type": "code",
   "execution_count": null,
   "metadata": {},
   "outputs": [],
   "source": []
  },
  {
   "cell_type": "code",
   "execution_count": 29,
   "metadata": {},
   "outputs": [
    {
     "data": {
      "text/plain": [
       "[('Y4', 'Y4'), ('Y4', 'I4'), ('I4', 'I4')]"
      ]
     },
     "execution_count": 29,
     "metadata": {},
     "output_type": "execute_result"
    }
   ],
   "source": [
    "def convert_2_edge(mail_status):\n",
    "    edges = []\n",
    "    for idx in range(len(mail_status)-1):\n",
    "        edges.append( (mail_status[idx][0], mail_status[idx+1][0]) )\n",
    "        \n",
    "    return edges\n",
    "# \"Y4\" -> \"H4\"\n",
    "# \"H4\" -> \"Z2\"\n",
    "\n",
    "mail_status = all_mail['96410700000070']\n",
    "convert_2_edge(mail_status)"
   ]
  },
  {
   "cell_type": "code",
   "execution_count": 30,
   "metadata": {
    "scrolled": true
   },
   "outputs": [],
   "source": [
    "all_edges = [] \n",
    "for mail_code in all_mail:\n",
    "    status_num = len(all_mail[mail_code])\n",
    "    \n",
    "    if (status_num) > 2:\n",
    "        mail_status = all_mail[mail_code]\n",
    "        all_edges.extend(convert_2_edge(mail_status))"
   ]
  },
  {
   "cell_type": "code",
   "execution_count": 31,
   "metadata": {},
   "outputs": [],
   "source": [
    "import collections\n",
    "import numpy as np"
   ]
  },
  {
   "cell_type": "code",
   "execution_count": 32,
   "metadata": {
    "scrolled": true
   },
   "outputs": [],
   "source": [
    "value_list = {}\n",
    "for edge, value in collections.Counter(all_edges).most_common(1000):\n",
    "    value_list[edge] = value\n",
    "\n",
    "list_max = np.max(list(value_list.values()))\n",
    "list_min = np.min(list(value_list.values()))\n",
    "list_diff = float(list_max - list_min)\n",
    "\n",
    "k = 20\n",
    "\n",
    "normal_val = lambda x: int(k/3+k*2*(x-list_min)/list_diff)"
   ]
  },
  {
   "cell_type": "code",
   "execution_count": 33,
   "metadata": {},
   "outputs": [
    {
     "data": {
      "text/plain": [
       "1484"
      ]
     },
     "execution_count": 33,
     "metadata": {},
     "output_type": "execute_result"
    }
   ],
   "source": [
    "normal_val(1700)"
   ]
  },
  {
   "cell_type": "code",
   "execution_count": null,
   "metadata": {},
   "outputs": [],
   "source": []
  },
  {
   "cell_type": "code",
   "execution_count": 34,
   "metadata": {
    "scrolled": true
   },
   "outputs": [],
   "source": [
    "data_edges = []\n",
    "for edge, value in collections.Counter(all_edges).most_common(1000):\n",
    "    edge = {\"source\": edge[0], \"target\":edge[1], \"value\":normal_val(value)}\n",
    "    data_edges.append(edge)"
   ]
  },
  {
   "cell_type": "code",
   "execution_count": 35,
   "metadata": {
    "scrolled": true
   },
   "outputs": [],
   "source": [
    "all_data = {\"nodes\":data_nodes, \"links\":data_edges}"
   ]
  },
  {
   "cell_type": "code",
   "execution_count": 36,
   "metadata": {},
   "outputs": [],
   "source": [
    "import json"
   ]
  },
  {
   "cell_type": "code",
   "execution_count": 37,
   "metadata": {
    "scrolled": true
   },
   "outputs": [
    {
     "data": {
      "text/plain": [
       "4471"
      ]
     },
     "execution_count": 37,
     "metadata": {},
     "output_type": "execute_result"
    }
   ],
   "source": [
    "open(\"data_4_d3.json\", \"w\").write(json.dumps(all_data, indent = 2))"
   ]
  },
  {
   "cell_type": "code",
   "execution_count": null,
   "metadata": {},
   "outputs": [],
   "source": []
  },
  {
   "cell_type": "code",
   "execution_count": null,
   "metadata": {},
   "outputs": [],
   "source": []
  },
  {
   "cell_type": "code",
   "execution_count": null,
   "metadata": {},
   "outputs": [],
   "source": []
  },
  {
   "cell_type": "code",
   "execution_count": null,
   "metadata": {},
   "outputs": [],
   "source": []
  },
  {
   "cell_type": "code",
   "execution_count": null,
   "metadata": {},
   "outputs": [],
   "source": []
  },
  {
   "cell_type": "code",
   "execution_count": null,
   "metadata": {},
   "outputs": [],
   "source": []
  },
  {
   "cell_type": "code",
   "execution_count": null,
   "metadata": {},
   "outputs": [],
   "source": []
  },
  {
   "cell_type": "code",
   "execution_count": null,
   "metadata": {},
   "outputs": [],
   "source": []
  },
  {
   "cell_type": "code",
   "execution_count": null,
   "metadata": {},
   "outputs": [],
   "source": []
  },
  {
   "cell_type": "code",
   "execution_count": null,
   "metadata": {},
   "outputs": [],
   "source": []
  },
  {
   "cell_type": "code",
   "execution_count": null,
   "metadata": {},
   "outputs": [],
   "source": []
  },
  {
   "cell_type": "code",
   "execution_count": null,
   "metadata": {},
   "outputs": [],
   "source": []
  },
  {
   "cell_type": "code",
   "execution_count": null,
   "metadata": {},
   "outputs": [],
   "source": []
  },
  {
   "cell_type": "code",
   "execution_count": null,
   "metadata": {},
   "outputs": [],
   "source": []
  },
  {
   "cell_type": "code",
   "execution_count": null,
   "metadata": {},
   "outputs": [],
   "source": []
  },
  {
   "cell_type": "code",
   "execution_count": null,
   "metadata": {},
   "outputs": [],
   "source": []
  },
  {
   "cell_type": "code",
   "execution_count": null,
   "metadata": {},
   "outputs": [],
   "source": []
  },
  {
   "cell_type": "code",
   "execution_count": null,
   "metadata": {},
   "outputs": [],
   "source": []
  },
  {
   "cell_type": "code",
   "execution_count": null,
   "metadata": {},
   "outputs": [],
   "source": []
  },
  {
   "cell_type": "code",
   "execution_count": null,
   "metadata": {},
   "outputs": [],
   "source": []
  },
  {
   "cell_type": "code",
   "execution_count": null,
   "metadata": {},
   "outputs": [],
   "source": []
  },
  {
   "cell_type": "code",
   "execution_count": null,
   "metadata": {},
   "outputs": [],
   "source": []
  },
  {
   "cell_type": "code",
   "execution_count": null,
   "metadata": {},
   "outputs": [],
   "source": []
  },
  {
   "cell_type": "code",
   "execution_count": null,
   "metadata": {},
   "outputs": [],
   "source": []
  },
  {
   "cell_type": "code",
   "execution_count": null,
   "metadata": {},
   "outputs": [],
   "source": []
  },
  {
   "cell_type": "code",
   "execution_count": null,
   "metadata": {},
   "outputs": [],
   "source": []
  },
  {
   "cell_type": "code",
   "execution_count": null,
   "metadata": {},
   "outputs": [],
   "source": []
  },
  {
   "cell_type": "code",
   "execution_count": null,
   "metadata": {},
   "outputs": [],
   "source": []
  },
  {
   "cell_type": "code",
   "execution_count": null,
   "metadata": {},
   "outputs": [],
   "source": []
  },
  {
   "cell_type": "code",
   "execution_count": null,
   "metadata": {},
   "outputs": [],
   "source": []
  },
  {
   "cell_type": "code",
   "execution_count": null,
   "metadata": {},
   "outputs": [],
   "source": []
  },
  {
   "cell_type": "code",
   "execution_count": null,
   "metadata": {},
   "outputs": [],
   "source": []
  },
  {
   "cell_type": "code",
   "execution_count": null,
   "metadata": {},
   "outputs": [],
   "source": []
  },
  {
   "cell_type": "code",
   "execution_count": null,
   "metadata": {},
   "outputs": [],
   "source": []
  },
  {
   "cell_type": "code",
   "execution_count": null,
   "metadata": {},
   "outputs": [],
   "source": []
  },
  {
   "cell_type": "code",
   "execution_count": null,
   "metadata": {},
   "outputs": [],
   "source": []
  },
  {
   "cell_type": "code",
   "execution_count": null,
   "metadata": {},
   "outputs": [],
   "source": []
  },
  {
   "cell_type": "code",
   "execution_count": null,
   "metadata": {},
   "outputs": [],
   "source": []
  },
  {
   "cell_type": "code",
   "execution_count": null,
   "metadata": {},
   "outputs": [],
   "source": []
  },
  {
   "cell_type": "code",
   "execution_count": null,
   "metadata": {},
   "outputs": [],
   "source": []
  },
  {
   "cell_type": "code",
   "execution_count": null,
   "metadata": {},
   "outputs": [],
   "source": []
  },
  {
   "cell_type": "code",
   "execution_count": null,
   "metadata": {},
   "outputs": [],
   "source": []
  },
  {
   "cell_type": "code",
   "execution_count": null,
   "metadata": {},
   "outputs": [],
   "source": []
  },
  {
   "cell_type": "code",
   "execution_count": null,
   "metadata": {},
   "outputs": [],
   "source": []
  },
  {
   "cell_type": "code",
   "execution_count": null,
   "metadata": {},
   "outputs": [],
   "source": []
  },
  {
   "cell_type": "code",
   "execution_count": null,
   "metadata": {},
   "outputs": [],
   "source": []
  },
  {
   "cell_type": "code",
   "execution_count": null,
   "metadata": {},
   "outputs": [],
   "source": []
  },
  {
   "cell_type": "code",
   "execution_count": null,
   "metadata": {},
   "outputs": [],
   "source": []
  },
  {
   "cell_type": "code",
   "execution_count": null,
   "metadata": {},
   "outputs": [],
   "source": []
  },
  {
   "cell_type": "code",
   "execution_count": null,
   "metadata": {},
   "outputs": [],
   "source": []
  },
  {
   "cell_type": "code",
   "execution_count": null,
   "metadata": {},
   "outputs": [],
   "source": []
  },
  {
   "cell_type": "code",
   "execution_count": null,
   "metadata": {},
   "outputs": [],
   "source": []
  },
  {
   "cell_type": "code",
   "execution_count": null,
   "metadata": {},
   "outputs": [],
   "source": []
  },
  {
   "cell_type": "code",
   "execution_count": null,
   "metadata": {},
   "outputs": [],
   "source": []
  },
  {
   "cell_type": "code",
   "execution_count": null,
   "metadata": {},
   "outputs": [],
   "source": []
  },
  {
   "cell_type": "code",
   "execution_count": null,
   "metadata": {},
   "outputs": [],
   "source": []
  },
  {
   "cell_type": "markdown",
   "metadata": {},
   "source": [
    "# 標準化"
   ]
  },
  {
   "cell_type": "code",
   "execution_count": 38,
   "metadata": {},
   "outputs": [],
   "source": [
    "from sklearn import preprocessing\n",
    "import numpy as np"
   ]
  },
  {
   "cell_type": "code",
   "execution_count": 39,
   "metadata": {
    "scrolled": false
   },
   "outputs": [],
   "source": [
    "data_edges = []\n",
    "sss = []\n",
    "for edge, value in collections.Counter(all_edges).most_common(1000):\n",
    "    edge = { \"source\": edge[0], \"target\":edge[1], \"value\":value }\n",
    "    data_edges.append(edge)\n",
    "    sss.append(value) "
   ]
  },
  {
   "cell_type": "code",
   "execution_count": 40,
   "metadata": {},
   "outputs": [
    {
     "name": "stdout",
     "output_type": "stream",
     "text": [
      "[47, 36, 21, 15, 11, 10, 9, 6, 4, 4, 4, 3, 3, 2, 2, 2, 2, 2, 2, 2, 2, 2, 2, 1, 1, 1, 1, 1, 1, 1, 1, 1, 1, 1, 1, 1, 1, 1, 1]\n"
     ]
    }
   ],
   "source": [
    "print(sss)"
   ]
  },
  {
   "cell_type": "code",
   "execution_count": 41,
   "metadata": {},
   "outputs": [],
   "source": [
    "X = preprocessing.scale(sss)"
   ]
  },
  {
   "cell_type": "code",
   "execution_count": 42,
   "metadata": {},
   "outputs": [
    {
     "name": "stdout",
     "output_type": "stream",
     "text": [
      "[ 4.3887404   3.22939949  1.64848008  1.01611231  0.5945338   0.48913917\n",
      "  0.38374454  0.06756066 -0.1432286  -0.1432286  -0.1432286  -0.24862322\n",
      " -0.24862322 -0.35401785 -0.35401785 -0.35401785 -0.35401785 -0.35401785\n",
      " -0.35401785 -0.35401785 -0.35401785 -0.35401785 -0.35401785 -0.45941248\n",
      " -0.45941248 -0.45941248 -0.45941248 -0.45941248 -0.45941248 -0.45941248\n",
      " -0.45941248 -0.45941248 -0.45941248 -0.45941248 -0.45941248 -0.45941248\n",
      " -0.45941248 -0.45941248 -0.45941248]\n"
     ]
    }
   ],
   "source": [
    "print(X)"
   ]
  },
  {
   "cell_type": "code",
   "execution_count": null,
   "metadata": {},
   "outputs": [],
   "source": []
  },
  {
   "cell_type": "code",
   "execution_count": null,
   "metadata": {},
   "outputs": [],
   "source": []
  },
  {
   "cell_type": "code",
   "execution_count": null,
   "metadata": {},
   "outputs": [],
   "source": []
  },
  {
   "cell_type": "code",
   "execution_count": 7,
   "metadata": {
    "scrolled": true
   },
   "outputs": [
    {
     "data": {
      "text/plain": [
       "00000000000000          13\n",
       "02620770702618           6\n",
       "02074210701218           5\n",
       "88026300100270           5\n",
       "47101000100270           5\n",
       "96410700000070           4\n",
       "04874230237110           4\n",
       "44702310028418807913     4\n",
       "02604970702618           4\n",
       "07051010701218           4\n",
       "05450600100170           4\n",
       "44619310028418557000     4\n",
       "44619810028418557555     4\n",
       "83362900100170           4\n",
       "09020900100170           4\n",
       "28280000100070           4\n",
       "03093910701218           4\n",
       "58608200100170           4\n",
       "07020010701218           4\n",
       "07475730205628           4\n",
       "24547800100270           4\n",
       "04871830237110           4\n",
       "18863110028418           3\n",
       "18959130245016           3\n",
       "31509500100170           3\n",
       "58688400100170           3\n",
       "07476830205628           3\n",
       "00631040100878           3\n",
       "44778910028418950557     3\n",
       "12684340100816           3\n",
       "                        ..\n",
       "03573640100816           1\n",
       "14206210701018           1\n",
       "07705330205628           1\n",
       "75607140000070           1\n",
       "20792930245018           1\n",
       "07705130205628           1\n",
       "23569530245018           1\n",
       "28540300100370           1\n",
       "03310140100918           1\n",
       "02459370702618           1\n",
       "04876830237110           1\n",
       "23571730245018           1\n",
       "53201210028318326665     1\n",
       "00602124124878           1\n",
       "00398533000020           1\n",
       "00435490010070           1\n",
       "00399133000020           1\n",
       "01381124124878           1\n",
       "00189010005518           1\n",
       "09385440100816           1\n",
       "01187000105670           1\n",
       "00434290010070           1\n",
       "09154630245018           1\n",
       "09152130245018           1\n",
       "03105010701218           1\n",
       "09150630245018           1\n",
       "00148580115918           1\n",
       "18960030245016           1\n",
       "07712030205628           1\n",
       "00013832000020           1\n",
       "Name: Mail_num, Length: 5982, dtype: int64"
      ]
     },
     "execution_count": 7,
     "metadata": {},
     "output_type": "execute_result"
    }
   ],
   "source": [
    "df['Mail_num'].value_counts()"
   ]
  },
  {
   "cell_type": "code",
   "execution_count": 11,
   "metadata": {
    "collapsed": true
   },
   "outputs": [
    {
     "name": "stderr",
     "output_type": "stream",
     "text": [
      "/usr/local/lib/python3.5/dist-packages/sklearn/utils/validation.py:595: DataConversionWarning: Data with input dtype object was converted to float64 by the scale function.\n",
      "  warnings.warn(msg, DataConversionWarning)\n",
      "/usr/local/lib/python3.5/dist-packages/sklearn/preprocessing/data.py:176: UserWarning: Numerical issues were encountered when centering the data and might not be solved. Dataset may contain too large values. You may need to prescale your features.\n",
      "  warnings.warn(\"Numerical issues were encountered \"\n"
     ]
    }
   ],
   "source": [
    "X = preprocessing.scale(df['Mail_num'])"
   ]
  },
  {
   "cell_type": "code",
   "execution_count": 12,
   "metadata": {},
   "outputs": [
    {
     "name": "stdout",
     "output_type": "stream",
     "text": [
      "[-0.20302762 -0.20302762 -0.20302762 ... -0.20302719 -0.20302719\n",
      " -0.20302719]\n"
     ]
    }
   ],
   "source": [
    "print(X)"
   ]
  },
  {
   "cell_type": "code",
   "execution_count": null,
   "metadata": {},
   "outputs": [],
   "source": []
  }
 ],
 "metadata": {
  "kernelspec": {
   "display_name": "Python 3",
   "language": "python",
   "name": "python3"
  },
  "language_info": {
   "codemirror_mode": {
    "name": "ipython",
    "version": 3
   },
   "file_extension": ".py",
   "mimetype": "text/x-python",
   "name": "python",
   "nbconvert_exporter": "python",
   "pygments_lexer": "ipython3",
   "version": "3.5.2"
  }
 },
 "nbformat": 4,
 "nbformat_minor": 2
}
